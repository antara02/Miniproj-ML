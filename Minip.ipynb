{
  "nbformat": 4,
  "nbformat_minor": 0,
  "metadata": {
    "colab": {
      "name": "Minip.ipynb",
      "provenance": [],
      "collapsed_sections": [],
      "authorship_tag": "ABX9TyMPCJzHa/QixmIWOslEXVNa",
      "include_colab_link": true
    },
    "kernelspec": {
      "name": "python3",
      "display_name": "Python 3"
    },
    "language_info": {
      "name": "python"
    }
  },
  "cells": [
    {
      "cell_type": "markdown",
      "metadata": {
        "id": "view-in-github",
        "colab_type": "text"
      },
      "source": [
        "<a href=\"https://colab.research.google.com/github/antara02/Miniproj-ML/blob/main/Minip.ipynb\" target=\"_parent\"><img src=\"https://colab.research.google.com/assets/colab-badge.svg\" alt=\"Open In Colab\"/></a>"
      ]
    },
    {
      "cell_type": "code",
      "metadata": {
        "id": "ebG3C2o3INAl",
        "colab": {
          "base_uri": "https://localhost:8080/"
        },
        "outputId": "76233917-5a61-4491-f93b-43feac498ee8"
      },
      "source": [
        "from nltk.stem.wordnet import WordNetLemmatizer\n",
        "import pandas as pd\n",
        "from nltk.corpus import stopwords\n",
        "from sklearn.preprocessing import LabelEncoder\n",
        "import re\n",
        "from tensorflow.keras.preprocessing.text import one_hot\n",
        "from nltk.tokenize import sent_tokenize, word_tokenize\n",
        "from nltk.stem.porter import PorterStemmer\n",
        "import nltk\n",
        "import string\n",
        "import sklearn\n",
        "nltk.download('punkt')\n",
        "nltk.download('wordnet')\n",
        "nltk.download('stopwords')"
      ],
      "execution_count": 6,
      "outputs": [
        {
          "output_type": "stream",
          "name": "stdout",
          "text": [
            "[nltk_data] Downloading package punkt to /root/nltk_data...\n",
            "[nltk_data]   Package punkt is already up-to-date!\n",
            "[nltk_data] Downloading package wordnet to /root/nltk_data...\n",
            "[nltk_data]   Package wordnet is already up-to-date!\n",
            "[nltk_data] Downloading package stopwords to /root/nltk_data...\n",
            "[nltk_data]   Package stopwords is already up-to-date!\n"
          ]
        },
        {
          "output_type": "execute_result",
          "data": {
            "text/plain": [
              "True"
            ]
          },
          "metadata": {},
          "execution_count": 6
        }
      ]
    },
    {
      "cell_type": "code",
      "metadata": {
        "id": "3rFbR8giJJkt",
        "colab": {
          "base_uri": "https://localhost:8080/"
        },
        "outputId": "7071dbc5-1edc-4daa-96bf-1bca4fd249ed"
      },
      "source": [
        "df=pd.read_csv(r'IMDB Dataset.csv')\n",
        "dataset=df[:100]\n",
        "toke=[]\n",
        "def clean_text(dataset):\n",
        "    clean_dataset=list()\n",
        "    lines=dataset['review'].values.tolist()\n",
        "    for text in lines:\n",
        "        text=text.lower()\n",
        "        pattern=re.compile('http[s]?://(?:[a-zA-Z]|[0-9]|[$-_@.&+]|[!*\\(\\),]|(?:%[0-9a-fA-F][0-9a-fA-F]))+')\n",
        "        text=pattern.sub('',text)\n",
        "        text=re.sub(r\"[,','.\\\"!@#$%^&*(){}?/;`~:<>+=-_]\",\"\",text)\n",
        "        tokens=word_tokenize(text)\n",
        "        # print(tokens)\n",
        "        table=str.maketrans('','',string.punctuation)\n",
        "        stripped=[w.translate(table)for w in tokens]\n",
        "        words=[word for word in stripped if word.isalpha()]\n",
        "        words=' '.join(words)\n",
        "        clean_dataset.append(words)\n",
        "\n",
        "    return clean_dataset\n",
        "clean_dataset=clean_text(dataset)\n",
        "wordnet= WordNetLemmatizer()\n",
        "lemmetized_words=[]\n",
        "for i in range(len(clean_dataset)):\n",
        "    review = re.sub('[^a-zA-Z]', ' ', clean_dataset[i])\n",
        "    review= review.split()\n",
        "    review= [wordnet.lemmatize(word) for word in review if not word in set(stopwords.words('english'))]\n",
        "    review= ' '.join(review)\n",
        "    lemmetized_words.append(review)\n",
        "print(lemmetized_words[:5])\n",
        "\n",
        "vocab_size= 1000"
      ],
      "execution_count": 9,
      "outputs": [
        {
          "output_type": "stream",
          "name": "stdout",
          "text": [
            "['one reviewer mentioned watching oz episode youll hooked right exactly happened mebr br first thing struck oz brutality unflinching scene violence set right word go trust show faint hearted timid show pull punch regard drug sex violence hardcore classic use wordbr br called oz nickname given oswald maximum security state penitentary focus mainly emerald city experimental section prison cell glass front face inwards privacy high agenda em city home manyaryans muslim gangsta latino christian italian irish moreso scuffle death stare dodgy dealing shady agreement never far awaybr br would say main appeal show due fact go show wouldnt dare forget pretty picture painted mainstream audience forget charm forget romanceoz doesnt mess around first episode ever saw struck nasty surreal couldnt say ready watched developed taste oz got accustomed high level graphic violence violence injustice crooked guard wholl sold nickel inmate wholl kill order get away well mannered middle class inmate turned prison bitch due lack street skill prison experience watching oz may become comfortable uncomfortable viewingthats get touch darker side', 'wonderful little production br br filming technique unassuming oldtimebbc fashion give comforting sometimes discomforting sense realism entire piece br br actor extremely well chosen michael sheen got polari voice pat truly see seamless editing guided reference williams diary entry well worth watching terrificly written performed piece masterful production one great master comedy life br br realism really come home little thing fantasy guard rather use traditional dream technique remains solid disappears play knowledge sens particularly scene concerning orton halliwell set particularly flat halliwells mural decorating every surface terribly well done', 'thought wonderful way spend time hot summer weekend sitting air conditioned theater watching lighthearted comedy plot simplistic dialogue witty character likable even well bread suspected serial killer may disappointed realize match point risk addiction thought proof woody allen still fully control style many u grown lovebr br id laughed one woodys comedy year dare say decade ive never impressed scarlet johanson managed tone sexy image jumped right average spirited young womanbr br may crown jewel career wittier devil wear prada interesting superman great comedy go see friend', 'basically there family little boy jake think there zombie closet parent fighting timebr br movie slower soap opera suddenly jake decides become rambo kill zombiebr br ok first youre going make film must decide thriller drama drama movie watchable parent divorcing arguing like real life jake closet totally ruin film expected see boogeyman similar movie instead watched drama meaningless thriller spotsbr br well playing parent descent dialog shot jake ignore', 'petter matteis love time money visually stunning film watch mr mattei offer u vivid portrait human relation movie seems telling u money power success people different situation encounter br br variation arthur schnitzlers play theme director transfer action present time new york different character meet connect one connected one way another next person one seems know previous point contact stylishly film sophisticated luxurious look taken see people live world live habitatbr br thing one get soul picture different stage loneliness one inhabits big city exactly best place human relation find sincere fulfillment one discerns case people encounterbr br acting good mr matteis direction steve buscemi rosario dawson carol kane michael imperioli adrian grenier rest talented cast make character come alivebr br wish mr mattei good luck await anxiously next work']\n"
          ]
        }
      ]
    },
    {
      "cell_type": "code",
      "metadata": {
        "id": "9ZZx7ICPNW_m"
      },
      "source": [
        "le= LabelEncoder()\n",
        "xy= dataset['sentiment'].values.tolist()\n",
        "le.fit(['positive', 'negative'])\n",
        "new_xy=le.transform(xy)\n",
        "# print(new_xy)"
      ],
      "execution_count": 16,
      "outputs": []
    },
    {
      "cell_type": "code",
      "metadata": {
        "id": "0nTRbowS0IDo"
      },
      "source": [
        "vectorizer = sklearn.feature_extraction.text.CountVectorizer(binary=False,ngram_range=(1,1))\n",
        "output = vectorizer.fit_transform(lemmetized_words)\n",
        "# tf_features_test = vectorizer.transform(imdb_test['review'])\n",
        "xd= output.toarray()\n",
        "l=vectorizer.get_feature_names_out()"
      ],
      "execution_count": 18,
      "outputs": []
    },
    {
      "cell_type": "code",
      "metadata": {
        "id": "Hp-We1dl1uJd"
      },
      "source": [
        "df= pd.DataFrame(xd, columns=l)\n",
        "df[\"sentiments\"]=new_xy\n",
        "df.to_csv('new_data.csv')"
      ],
      "execution_count": 21,
      "outputs": []
    }
  ]
}