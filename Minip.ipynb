{
  "nbformat": 4,
  "nbformat_minor": 0,
  "metadata": {
    "colab": {
      "name": "Minip.ipynb",
      "provenance": [],
      "collapsed_sections": [],
      "authorship_tag": "ABX9TyOx026IaIjt14RDwAoL+N5p",
      "include_colab_link": true
    },
    "kernelspec": {
      "name": "python3",
      "display_name": "Python 3"
    },
    "language_info": {
      "name": "python"
    }
  },
  "cells": [
    {
      "cell_type": "markdown",
      "metadata": {
        "id": "view-in-github",
        "colab_type": "text"
      },
      "source": [
        "<a href=\"https://colab.research.google.com/github/antara02/Miniproj-ML/blob/main/Minip.ipynb\" target=\"_parent\"><img src=\"https://colab.research.google.com/assets/colab-badge.svg\" alt=\"Open In Colab\"/></a>"
      ]
    },
    {
      "cell_type": "code",
      "metadata": {
        "id": "ebG3C2o3INAl",
        "colab": {
          "base_uri": "https://localhost:8080/"
        },
        "outputId": "63ec8445-7d66-4452-8c64-8d2404f20854"
      },
      "source": [
        "from nltk.stem.wordnet import WordNetLemmatizer\n",
        "import pandas as pd\n",
        "from nltk.corpus import stopwords\n",
        "from sklearn.preprocessing import LabelEncoder\n",
        "import re\n",
        "from tensorflow.keras.preprocessing.text import one_hot\n",
        "from nltk.tokenize import sent_tokenize, word_tokenize\n",
        "from nltk.stem.porter import PorterStemmer\n",
        "import nltk\n",
        "import string\n",
        "nltk.download('punkt')\n",
        "nltk.download('wordnet')\n",
        "nltk.download('stopwords')"
      ],
      "execution_count": 10,
      "outputs": [
        {
          "output_type": "stream",
          "name": "stdout",
          "text": [
            "[nltk_data] Downloading package punkt to /root/nltk_data...\n",
            "[nltk_data]   Package punkt is already up-to-date!\n",
            "[nltk_data] Downloading package wordnet to /root/nltk_data...\n",
            "[nltk_data]   Package wordnet is already up-to-date!\n",
            "[nltk_data] Downloading package stopwords to /root/nltk_data...\n",
            "[nltk_data]   Package stopwords is already up-to-date!\n"
          ]
        },
        {
          "output_type": "execute_result",
          "data": {
            "text/plain": [
              "True"
            ]
          },
          "metadata": {},
          "execution_count": 10
        }
      ]
    },
    {
      "cell_type": "code",
      "metadata": {
        "id": "3rFbR8giJJkt"
      },
      "source": [
        "df=pd.read_csv(r'/content/IMDB Dataset.csv')\n",
        "dataset=df[:100]\n",
        "toke=[]\n",
        "def clean_text(dataset):\n",
        "    clean_dataset=list()\n",
        "    lines=dataset['review'].values.tolist()\n",
        "    for text in lines:\n",
        "        text=text.lower()\n",
        "        pattern=re.compile('http[s]?://(?:[a-zA-Z]|[0-9]|[$-_@.&+]|[!*\\(\\),]|(?:%[0-9a-fA-F][0-9a-fA-F]))+')\n",
        "        text=pattern.sub('',text)\n",
        "        text=re.sub(r\"[,','.\\\"!@#$%^&*(){}?/;`~:<>+=-_]\",\"\",text)\n",
        "        tokens=word_tokenize(text)\n",
        "        # print(tokens)\n",
        "        table=str.maketrans('','',string.punctuation)\n",
        "        stripped=[w.translate(table)for w in tokens]\n",
        "        words=[word for word in stripped if word.isalpha()]\n",
        "        words=' '.join(words)\n",
        "        clean_dataset.append(words)\n",
        "\n",
        "    return clean_dataset\n",
        "clean_dataset=clean_text(dataset)\n",
        "wordnet= WordNetLemmatizer()\n",
        "lemmetized_words=[]\n",
        "for i in range(len(clean_dataset)):\n",
        "    review = re.sub('[^a-zA-Z]', ' ', clean_dataset[i])\n",
        "    review= review.split()\n",
        "    review= [wordnet.lemmatize(word) for word in review if not word in set(stopwords.words('english'))]\n",
        "    review= ' '.join(review)\n",
        "    lemmetized_words.append(review)\n",
        "print(lemmetized_words[:5])\n",
        "\n",
        "vocab_size= 1000"
      ],
      "execution_count": null,
      "outputs": []
    },
    {
      "cell_type": "code",
      "metadata": {
        "id": "WOIHGvw5MJP5"
      },
      "source": [
        "onehot_repr= [one_hot(words, vocab_size)for words in lemmetized_words]\n",
        "print(onehot_repr)"
      ],
      "execution_count": null,
      "outputs": []
    },
    {
      "cell_type": "code",
      "metadata": {
        "colab": {
          "base_uri": "https://localhost:8080/"
        },
        "id": "9ZZx7ICPNW_m",
        "outputId": "da796c9d-6b17-4e35-b3b2-9706bc6b37ca"
      },
      "source": [
        "le= LabelEncoder()\n",
        "xy= dataset['sentiment'].values.tolist()\n",
        "le.fit(['positive', 'negative'])\n",
        "new_xy=le.transform(xy)\n",
        "# print(new_xy)"
      ],
      "execution_count": 12,
      "outputs": [
        {
          "output_type": "stream",
          "name": "stdout",
          "text": [
            "[1 1 1 0 1 1 1 0 0 1 0 0 0 0 1 0 1 0 1 0 1 0 1 0 0 1 1 0 0 1 1 1 0 1 0 0 0\n",
            " 0 1 0 0 1 0 0 1 1 0 0 1 0 1 1 1 1 0 0 0 0 1 1 0 0 1 0 0 1 0 0 0 0 0 0 1 1\n",
            " 0 1 1 0 0 1 1 0 0 0 0 0 0 0 0 0 1 0 1 1 0 1 0 0 0 1]\n"
          ]
        }
      ]
    },
    {
      "cell_type": "code",
      "metadata": {
        "id": "Bs6GLLlpPffQ"
      },
      "source": [
        "df= pd.DataFrame({'review':onehot_repr, 'sentiment':new_xy})\n",
        "df.to_csv('new_data.csv')"
      ],
      "execution_count": 14,
      "outputs": []
    }
  ]
}